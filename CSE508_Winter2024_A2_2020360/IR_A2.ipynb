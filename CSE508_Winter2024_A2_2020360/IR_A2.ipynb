{
  "nbformat": 4,
  "nbformat_minor": 0,
  "metadata": {
    "colab": {
      "provenance": [],
      "collapsed_sections": [
        "e_pdA-y_K9T4"
      ]
    },
    "kernelspec": {
      "name": "python3",
      "display_name": "Python 3"
    },
    "language_info": {
      "name": "python"
    }
  },
  "cells": [
    {
      "cell_type": "markdown",
      "source": [
        "## Imports"
      ],
      "metadata": {
        "id": "dJpq5cKjc6Na"
      }
    },
    {
      "cell_type": "code",
      "execution_count": 1,
      "metadata": {
        "colab": {
          "base_uri": "https://localhost:8080/"
        },
        "id": "jPtTlu9ocvxi",
        "outputId": "17480c96-89b0-42ec-946a-6c6b0976a671"
      },
      "outputs": [
        {
          "output_type": "stream",
          "name": "stdout",
          "text": [
            "Mounted at /content/gdrive/\n"
          ]
        }
      ],
      "source": [
        "from google.colab import drive\n",
        "drive.mount('/content/gdrive/')"
      ]
    },
    {
      "cell_type": "code",
      "source": [
        "import torch\n",
        "import csv\n",
        "import pandas as pd\n",
        "import gspread\n",
        "import pickle\n",
        "# from google.colab import auth\n",
        "# from google.auth import default\n",
        "import requests\n",
        "import matplotlib.pyplot as plt\n",
        "\n",
        "# creds, _ = default()\n",
        "# gc = gspread.authorize(creds)"
      ],
      "metadata": {
        "id": "UoMZwAnMeY7z"
      },
      "execution_count": 2,
      "outputs": []
    },
    {
      "cell_type": "code",
      "source": [
        "device = torch.device('cuda' if torch.cuda.is_available() else 'cpu')\n",
        "print(device)"
      ],
      "metadata": {
        "id": "k9rePfV2dajx",
        "colab": {
          "base_uri": "https://localhost:8080/"
        },
        "outputId": "28eb4979-980e-448a-c51f-1f71535bd812"
      },
      "execution_count": 3,
      "outputs": [
        {
          "output_type": "stream",
          "name": "stdout",
          "text": [
            "cpu\n"
          ]
        }
      ]
    },
    {
      "cell_type": "code",
      "source": [
        "# sheet_url = 'https://docs.google.com/spreadsheets/d/1tG1DAzHKkGhHo5-F5WosUU-P7bYPQ9tGeDFKBSX3UkE/edit#gid=654644383'\n",
        "# sh = gc.open_by_url(sheet_url)\n",
        "# rows = sh.sheet1.get_all_values()\n",
        "# df = pd.DataFrame.from_records(rows)"
      ],
      "metadata": {
        "id": "xXX8PdQygyDU"
      },
      "execution_count": 4,
      "outputs": []
    },
    {
      "cell_type": "code",
      "source": [
        "csv_path = '/content/gdrive/MyDrive/IR A2/A2_Data - A2_Data.csv'\n",
        "df = pd.read_csv(csv_path)"
      ],
      "metadata": {
        "id": "rWxeK2qkzHWE"
      },
      "execution_count": 5,
      "outputs": []
    },
    {
      "cell_type": "code",
      "source": [
        "df.head()"
      ],
      "metadata": {
        "colab": {
          "base_uri": "https://localhost:8080/",
          "height": 206
        },
        "id": "YS-CuFA5ou0D",
        "outputId": "b31b624d-10ed-4f5c-8216-00fbc4feb086"
      },
      "execution_count": 6,
      "outputs": [
        {
          "output_type": "execute_result",
          "data": {
            "text/plain": [
              "   Unnamed: 0                                              Image  \\\n",
              "0        3452  ['https://images-na.ssl-images-amazon.com/imag...   \n",
              "1        1205  ['https://images-na.ssl-images-amazon.com/imag...   \n",
              "2        1708  ['https://images-na.ssl-images-amazon.com/imag...   \n",
              "3        2078  ['https://images-na.ssl-images-amazon.com/imag...   \n",
              "4         801  ['https://images-na.ssl-images-amazon.com/imag...   \n",
              "\n",
              "                                         Review Text  \n",
              "0  Loving these vintage springs on my vintage str...  \n",
              "1  Works great as a guitar bench mat. Not rugged ...  \n",
              "2  We use these for everything from our acoustic ...  \n",
              "3  Great price and good quality.  It didn't quite...  \n",
              "4  I bought this bass to split time as my primary...  "
            ],
            "text/html": [
              "\n",
              "  <div id=\"df-afb9b28e-9ef2-4f45-9be5-3e261d0745bb\" class=\"colab-df-container\">\n",
              "    <div>\n",
              "<style scoped>\n",
              "    .dataframe tbody tr th:only-of-type {\n",
              "        vertical-align: middle;\n",
              "    }\n",
              "\n",
              "    .dataframe tbody tr th {\n",
              "        vertical-align: top;\n",
              "    }\n",
              "\n",
              "    .dataframe thead th {\n",
              "        text-align: right;\n",
              "    }\n",
              "</style>\n",
              "<table border=\"1\" class=\"dataframe\">\n",
              "  <thead>\n",
              "    <tr style=\"text-align: right;\">\n",
              "      <th></th>\n",
              "      <th>Unnamed: 0</th>\n",
              "      <th>Image</th>\n",
              "      <th>Review Text</th>\n",
              "    </tr>\n",
              "  </thead>\n",
              "  <tbody>\n",
              "    <tr>\n",
              "      <th>0</th>\n",
              "      <td>3452</td>\n",
              "      <td>['https://images-na.ssl-images-amazon.com/imag...</td>\n",
              "      <td>Loving these vintage springs on my vintage str...</td>\n",
              "    </tr>\n",
              "    <tr>\n",
              "      <th>1</th>\n",
              "      <td>1205</td>\n",
              "      <td>['https://images-na.ssl-images-amazon.com/imag...</td>\n",
              "      <td>Works great as a guitar bench mat. Not rugged ...</td>\n",
              "    </tr>\n",
              "    <tr>\n",
              "      <th>2</th>\n",
              "      <td>1708</td>\n",
              "      <td>['https://images-na.ssl-images-amazon.com/imag...</td>\n",
              "      <td>We use these for everything from our acoustic ...</td>\n",
              "    </tr>\n",
              "    <tr>\n",
              "      <th>3</th>\n",
              "      <td>2078</td>\n",
              "      <td>['https://images-na.ssl-images-amazon.com/imag...</td>\n",
              "      <td>Great price and good quality.  It didn't quite...</td>\n",
              "    </tr>\n",
              "    <tr>\n",
              "      <th>4</th>\n",
              "      <td>801</td>\n",
              "      <td>['https://images-na.ssl-images-amazon.com/imag...</td>\n",
              "      <td>I bought this bass to split time as my primary...</td>\n",
              "    </tr>\n",
              "  </tbody>\n",
              "</table>\n",
              "</div>\n",
              "    <div class=\"colab-df-buttons\">\n",
              "\n",
              "  <div class=\"colab-df-container\">\n",
              "    <button class=\"colab-df-convert\" onclick=\"convertToInteractive('df-afb9b28e-9ef2-4f45-9be5-3e261d0745bb')\"\n",
              "            title=\"Convert this dataframe to an interactive table.\"\n",
              "            style=\"display:none;\">\n",
              "\n",
              "  <svg xmlns=\"http://www.w3.org/2000/svg\" height=\"24px\" viewBox=\"0 -960 960 960\">\n",
              "    <path d=\"M120-120v-720h720v720H120Zm60-500h600v-160H180v160Zm220 220h160v-160H400v160Zm0 220h160v-160H400v160ZM180-400h160v-160H180v160Zm440 0h160v-160H620v160ZM180-180h160v-160H180v160Zm440 0h160v-160H620v160Z\"/>\n",
              "  </svg>\n",
              "    </button>\n",
              "\n",
              "  <style>\n",
              "    .colab-df-container {\n",
              "      display:flex;\n",
              "      gap: 12px;\n",
              "    }\n",
              "\n",
              "    .colab-df-convert {\n",
              "      background-color: #E8F0FE;\n",
              "      border: none;\n",
              "      border-radius: 50%;\n",
              "      cursor: pointer;\n",
              "      display: none;\n",
              "      fill: #1967D2;\n",
              "      height: 32px;\n",
              "      padding: 0 0 0 0;\n",
              "      width: 32px;\n",
              "    }\n",
              "\n",
              "    .colab-df-convert:hover {\n",
              "      background-color: #E2EBFA;\n",
              "      box-shadow: 0px 1px 2px rgba(60, 64, 67, 0.3), 0px 1px 3px 1px rgba(60, 64, 67, 0.15);\n",
              "      fill: #174EA6;\n",
              "    }\n",
              "\n",
              "    .colab-df-buttons div {\n",
              "      margin-bottom: 4px;\n",
              "    }\n",
              "\n",
              "    [theme=dark] .colab-df-convert {\n",
              "      background-color: #3B4455;\n",
              "      fill: #D2E3FC;\n",
              "    }\n",
              "\n",
              "    [theme=dark] .colab-df-convert:hover {\n",
              "      background-color: #434B5C;\n",
              "      box-shadow: 0px 1px 3px 1px rgba(0, 0, 0, 0.15);\n",
              "      filter: drop-shadow(0px 1px 2px rgba(0, 0, 0, 0.3));\n",
              "      fill: #FFFFFF;\n",
              "    }\n",
              "  </style>\n",
              "\n",
              "    <script>\n",
              "      const buttonEl =\n",
              "        document.querySelector('#df-afb9b28e-9ef2-4f45-9be5-3e261d0745bb button.colab-df-convert');\n",
              "      buttonEl.style.display =\n",
              "        google.colab.kernel.accessAllowed ? 'block' : 'none';\n",
              "\n",
              "      async function convertToInteractive(key) {\n",
              "        const element = document.querySelector('#df-afb9b28e-9ef2-4f45-9be5-3e261d0745bb');\n",
              "        const dataTable =\n",
              "          await google.colab.kernel.invokeFunction('convertToInteractive',\n",
              "                                                    [key], {});\n",
              "        if (!dataTable) return;\n",
              "\n",
              "        const docLinkHtml = 'Like what you see? Visit the ' +\n",
              "          '<a target=\"_blank\" href=https://colab.research.google.com/notebooks/data_table.ipynb>data table notebook</a>'\n",
              "          + ' to learn more about interactive tables.';\n",
              "        element.innerHTML = '';\n",
              "        dataTable['output_type'] = 'display_data';\n",
              "        await google.colab.output.renderOutput(dataTable, element);\n",
              "        const docLink = document.createElement('div');\n",
              "        docLink.innerHTML = docLinkHtml;\n",
              "        element.appendChild(docLink);\n",
              "      }\n",
              "    </script>\n",
              "  </div>\n",
              "\n",
              "\n",
              "<div id=\"df-5a28af93-d4f7-4009-ba80-858f3900f2d0\">\n",
              "  <button class=\"colab-df-quickchart\" onclick=\"quickchart('df-5a28af93-d4f7-4009-ba80-858f3900f2d0')\"\n",
              "            title=\"Suggest charts\"\n",
              "            style=\"display:none;\">\n",
              "\n",
              "<svg xmlns=\"http://www.w3.org/2000/svg\" height=\"24px\"viewBox=\"0 0 24 24\"\n",
              "     width=\"24px\">\n",
              "    <g>\n",
              "        <path d=\"M19 3H5c-1.1 0-2 .9-2 2v14c0 1.1.9 2 2 2h14c1.1 0 2-.9 2-2V5c0-1.1-.9-2-2-2zM9 17H7v-7h2v7zm4 0h-2V7h2v10zm4 0h-2v-4h2v4z\"/>\n",
              "    </g>\n",
              "</svg>\n",
              "  </button>\n",
              "\n",
              "<style>\n",
              "  .colab-df-quickchart {\n",
              "      --bg-color: #E8F0FE;\n",
              "      --fill-color: #1967D2;\n",
              "      --hover-bg-color: #E2EBFA;\n",
              "      --hover-fill-color: #174EA6;\n",
              "      --disabled-fill-color: #AAA;\n",
              "      --disabled-bg-color: #DDD;\n",
              "  }\n",
              "\n",
              "  [theme=dark] .colab-df-quickchart {\n",
              "      --bg-color: #3B4455;\n",
              "      --fill-color: #D2E3FC;\n",
              "      --hover-bg-color: #434B5C;\n",
              "      --hover-fill-color: #FFFFFF;\n",
              "      --disabled-bg-color: #3B4455;\n",
              "      --disabled-fill-color: #666;\n",
              "  }\n",
              "\n",
              "  .colab-df-quickchart {\n",
              "    background-color: var(--bg-color);\n",
              "    border: none;\n",
              "    border-radius: 50%;\n",
              "    cursor: pointer;\n",
              "    display: none;\n",
              "    fill: var(--fill-color);\n",
              "    height: 32px;\n",
              "    padding: 0;\n",
              "    width: 32px;\n",
              "  }\n",
              "\n",
              "  .colab-df-quickchart:hover {\n",
              "    background-color: var(--hover-bg-color);\n",
              "    box-shadow: 0 1px 2px rgba(60, 64, 67, 0.3), 0 1px 3px 1px rgba(60, 64, 67, 0.15);\n",
              "    fill: var(--button-hover-fill-color);\n",
              "  }\n",
              "\n",
              "  .colab-df-quickchart-complete:disabled,\n",
              "  .colab-df-quickchart-complete:disabled:hover {\n",
              "    background-color: var(--disabled-bg-color);\n",
              "    fill: var(--disabled-fill-color);\n",
              "    box-shadow: none;\n",
              "  }\n",
              "\n",
              "  .colab-df-spinner {\n",
              "    border: 2px solid var(--fill-color);\n",
              "    border-color: transparent;\n",
              "    border-bottom-color: var(--fill-color);\n",
              "    animation:\n",
              "      spin 1s steps(1) infinite;\n",
              "  }\n",
              "\n",
              "  @keyframes spin {\n",
              "    0% {\n",
              "      border-color: transparent;\n",
              "      border-bottom-color: var(--fill-color);\n",
              "      border-left-color: var(--fill-color);\n",
              "    }\n",
              "    20% {\n",
              "      border-color: transparent;\n",
              "      border-left-color: var(--fill-color);\n",
              "      border-top-color: var(--fill-color);\n",
              "    }\n",
              "    30% {\n",
              "      border-color: transparent;\n",
              "      border-left-color: var(--fill-color);\n",
              "      border-top-color: var(--fill-color);\n",
              "      border-right-color: var(--fill-color);\n",
              "    }\n",
              "    40% {\n",
              "      border-color: transparent;\n",
              "      border-right-color: var(--fill-color);\n",
              "      border-top-color: var(--fill-color);\n",
              "    }\n",
              "    60% {\n",
              "      border-color: transparent;\n",
              "      border-right-color: var(--fill-color);\n",
              "    }\n",
              "    80% {\n",
              "      border-color: transparent;\n",
              "      border-right-color: var(--fill-color);\n",
              "      border-bottom-color: var(--fill-color);\n",
              "    }\n",
              "    90% {\n",
              "      border-color: transparent;\n",
              "      border-bottom-color: var(--fill-color);\n",
              "    }\n",
              "  }\n",
              "</style>\n",
              "\n",
              "  <script>\n",
              "    async function quickchart(key) {\n",
              "      const quickchartButtonEl =\n",
              "        document.querySelector('#' + key + ' button');\n",
              "      quickchartButtonEl.disabled = true;  // To prevent multiple clicks.\n",
              "      quickchartButtonEl.classList.add('colab-df-spinner');\n",
              "      try {\n",
              "        const charts = await google.colab.kernel.invokeFunction(\n",
              "            'suggestCharts', [key], {});\n",
              "      } catch (error) {\n",
              "        console.error('Error during call to suggestCharts:', error);\n",
              "      }\n",
              "      quickchartButtonEl.classList.remove('colab-df-spinner');\n",
              "      quickchartButtonEl.classList.add('colab-df-quickchart-complete');\n",
              "    }\n",
              "    (() => {\n",
              "      let quickchartButtonEl =\n",
              "        document.querySelector('#df-5a28af93-d4f7-4009-ba80-858f3900f2d0 button');\n",
              "      quickchartButtonEl.style.display =\n",
              "        google.colab.kernel.accessAllowed ? 'block' : 'none';\n",
              "    })();\n",
              "  </script>\n",
              "</div>\n",
              "    </div>\n",
              "  </div>\n"
            ],
            "application/vnd.google.colaboratory.intrinsic+json": {
              "type": "dataframe",
              "variable_name": "df",
              "summary": "{\n  \"name\": \"df\",\n  \"rows\": 1000,\n  \"fields\": [\n    {\n      \"column\": \"Unnamed: 0\",\n      \"properties\": {\n        \"dtype\": \"number\",\n        \"std\": 1109,\n        \"min\": 4,\n        \"max\": 3888,\n        \"num_unique_values\": 1000,\n        \"samples\": [\n          1023,\n          2801,\n          244\n        ],\n        \"semantic_type\": \"\",\n        \"description\": \"\"\n      }\n    },\n    {\n      \"column\": \"Image\",\n      \"properties\": {\n        \"dtype\": \"string\",\n        \"num_unique_values\": 990,\n        \"samples\": [\n          \"['https://images-na.ssl-images-amazon.com/images/I/71vNRf0A+YL._SY88.jpg']\",\n          \"['https://images-na.ssl-images-amazon.com/images/I/61zFPF6hgrL._SY88.jpg']\",\n          \"['https://images-na.ssl-images-amazon.com/images/I/71aNT7H6QxL._SY88.jpg']\"\n        ],\n        \"semantic_type\": \"\",\n        \"description\": \"\"\n      }\n    },\n    {\n      \"column\": \"Review Text\",\n      \"properties\": {\n        \"dtype\": \"string\",\n        \"num_unique_values\": 996,\n        \"samples\": [\n          \"I like this pedal very much so far. My favorite pedal was a Joyo and it didn't last long. It's in my junk pile. I hate the for the money thing. This delay pedal does a lot more than most one trick ponys out there. Money when you get into Chinese stuff is a gamble, I hope I get some time out of this Joyo because it just that great.\",\n          \"These are alot better than the Mahalo felt picks I've been using on my ukuleles. The Mahalos are soft, fat and flat, these are stiff, thinner and tapered, meaning they're easier to hold and play with and I get sharper sound. The 12 I got should last for quite some time, the Mahalos are showing more wear. Probably everyone should get some felt picks, very useful and alot of fun; these are really good ones.\",\n          \"Best strap lock system out there! -\"\n        ],\n        \"semantic_type\": \"\",\n        \"description\": \"\"\n      }\n    }\n  ]\n}"
            }
          },
          "metadata": {},
          "execution_count": 6
        }
      ]
    },
    {
      "cell_type": "code",
      "source": [
        "for i, index, row in enumerate(df.iterrows()):\n",
        "    id = row[0]\n",
        "    image_url = row[1]\n",
        "    text_description = row[2]\n",
        "\n",
        "    print(\"ID: \", id)\n",
        "    print(\"Image URL:\", image_url)\n",
        "    print(\"Text Description:\", text_description)\n",
        "    break"
      ],
      "metadata": {
        "colab": {
          "base_uri": "https://localhost:8080/"
        },
        "id": "O2cZnpKm2B_1",
        "outputId": "902416cc-b5b0-47e5-cce6-2b0ba0823afc"
      },
      "execution_count": 21,
      "outputs": [
        {
          "output_type": "stream",
          "name": "stdout",
          "text": [
            "ID:  3452\n",
            "Image URL: ['https://images-na.ssl-images-amazon.com/images/I/81q5+IxFVUL._SY88.jpg']\n",
            "Text Description: Loving these vintage springs on my vintage strat. They have a good tension and great stability. If you are floating your bridge and want the most out of your springs than these are the way to go.\n"
          ]
        }
      ]
    },
    {
      "cell_type": "markdown",
      "source": [
        "## Data Collection"
      ],
      "metadata": {
        "id": "e_pdA-y_K9T4"
      }
    },
    {
      "cell_type": "code",
      "source": [
        "import os\n",
        "from io import BytesIO\n",
        "from PIL import Image\n",
        "import requests\n",
        "import pickle\n",
        "\n",
        "folder_path = '/content/gdrive/My Drive/IR A2/Images'\n",
        "\n",
        "if not os.path.exists(folder_path):\n",
        "    os.makedirs(folder_path)\n",
        "\n",
        "failed_indexes = []\n",
        "\n",
        "for index, row in df.iloc[1:].iterrows():\n",
        "    image_url_str = row[1]\n",
        "\n",
        "    image_url_list = eval(image_url_str)\n",
        "\n",
        "    entry_folder_path = os.path.join(folder_path, f\"entry_{index}\")\n",
        "    if not os.path.exists(entry_folder_path):\n",
        "        os.makedirs(entry_folder_path)\n",
        "\n",
        "    for i, image_url in enumerate(image_url_list):\n",
        "        try:\n",
        "            response = requests.get(image_url)\n",
        "            if response.status_code == 200:\n",
        "                img = Image.open(BytesIO(response.content))\n",
        "\n",
        "                img.save(os.path.join(entry_folder_path, f\"image_{i}.jpg\"))\n",
        "                print(f\"Entry {index}: Image {i} saved successfully.\")\n",
        "            else:\n",
        "                print(f\"Entry {index}: Image {i} could not be downloaded.\")\n",
        "                failed_indexes.append(index)\n",
        "        except Exception as e:\n",
        "            print(f\"Entry {index}: Image {i} could not be downloaded. Error: {e}\")\n",
        "            failed_indexes.append(index)\n",
        "\n",
        "with open('/content/gdrive/My Drive/IR A2/failed_indexes.pkl', 'wb') as f:\n",
        "    pickle.dump(failed_indexes, f)"
      ],
      "metadata": {
        "id": "DMzuTzTNzqK4"
      },
      "execution_count": null,
      "outputs": []
    },
    {
      "cell_type": "code",
      "source": [
        "print(failed_indexes)"
      ],
      "metadata": {
        "colab": {
          "base_uri": "https://localhost:8080/"
        },
        "id": "-Eu31PlZF7_U",
        "outputId": "e482523f-338c-4f48-b15b-e81a0898582d"
      },
      "execution_count": null,
      "outputs": [
        {
          "output_type": "stream",
          "name": "stdout",
          "text": [
            "[68, 68, 111, 111, 524, 702, 861, 937]\n"
          ]
        }
      ]
    },
    {
      "cell_type": "code",
      "source": [
        "import os\n",
        "import pandas as pd\n",
        "\n",
        "folder_path = '/content/gdrive/My Drive/IR A2/Images'\n",
        "\n",
        "for index, row in df.iterrows():\n",
        "    image_url_str = row[1]\n",
        "\n",
        "    image_url_list = eval(image_url_str)\n",
        "\n",
        "    entry_folder_path = os.path.join(folder_path, f\"entry_{index+1}\")\n",
        "\n",
        "    for i, image_url in enumerate(image_url_list):\n",
        "        with open(os.path.join(entry_folder_path, f'image_url_{i}.txt'), 'w') as file:\n",
        "            file.write(image_url)\n",
        "\n",
        "print(\"Image URLs written to text files.\")"
      ],
      "metadata": {
        "colab": {
          "base_uri": "https://localhost:8080/"
        },
        "id": "HlckHU8cnJye",
        "outputId": "16a3766b-cace-4b66-9075-3cd2abcea2f7"
      },
      "execution_count": 29,
      "outputs": [
        {
          "output_type": "stream",
          "name": "stdout",
          "text": [
            "Image URLs written to text files.\n"
          ]
        }
      ]
    },
    {
      "cell_type": "code",
      "source": [
        "# import os\n",
        "\n",
        "# folder_path = '/content/gdrive/My Drive/IR A2/Images'\n",
        "\n",
        "# for index, row in df.iterrows():\n",
        "#     entry_folder_path = os.path.join(folder_path, f\"entry_{index}\")\n",
        "\n",
        "#     if not os.path.exists(entry_folder_path):\n",
        "#         continue\n",
        "\n",
        "#     for file_name in os.listdir(entry_folder_path):\n",
        "#         if file_name.startswith('image_url'):\n",
        "#             os.remove(os.path.join(entry_folder_path, file_name))\n",
        "\n",
        "# print(\"Files deleted.\")"
      ],
      "metadata": {
        "colab": {
          "base_uri": "https://localhost:8080/"
        },
        "id": "KoOG9xExy365",
        "outputId": "dad7460d-4d99-46e0-fafb-9179224fed75"
      },
      "execution_count": 26,
      "outputs": [
        {
          "output_type": "stream",
          "name": "stdout",
          "text": [
            "Files deleted.\n"
          ]
        }
      ]
    },
    {
      "cell_type": "code",
      "source": [
        "import os\n",
        "from io import BytesIO\n",
        "from PIL import Image\n",
        "import requests\n",
        "import pickle\n",
        "\n",
        "folder_path = '/content/gdrive/My Drive/IR A2/Images'\n",
        "\n",
        "for index, row in df.iloc[1:].iterrows():\n",
        "    id = row[0]\n",
        "\n",
        "    entry_folder_path = os.path.join(folder_path, f\"entry_{index}\")\n",
        "\n",
        "    with open(os.path.join(entry_folder_path, 'id.txt'), 'w') as file:\n",
        "      file.write(str(id))"
      ],
      "metadata": {
        "id": "4E8_DAnYlRx4"
      },
      "execution_count": 14,
      "outputs": []
    },
    {
      "cell_type": "code",
      "source": [
        "import os\n",
        "import pickle\n",
        "\n",
        "folder_path = '/content/gdrive/My Drive/IR A2/Images'\n",
        "\n",
        "for index, row in df.iterrows():\n",
        "    text = row[2]\n",
        "\n",
        "    entry_folder_path = os.path.join(folder_path, f\"entry_{index+1}\")\n",
        "\n",
        "    with open(os.path.join(entry_folder_path, 'review.txt'), 'w') as file:\n",
        "      file.write(str(text))"
      ],
      "metadata": {
        "id": "6emAjefp9u3O"
      },
      "execution_count": 44,
      "outputs": []
    },
    {
      "cell_type": "markdown",
      "source": [
        "## Feature Extraction"
      ],
      "metadata": {
        "id": "QLRq9FJX0z_7"
      }
    },
    {
      "cell_type": "code",
      "source": [
        "folder_path = '/content/gdrive/My Drive/IR A2/Images'"
      ],
      "metadata": {
        "id": "X39nWAco1Du0"
      },
      "execution_count": null,
      "outputs": []
    },
    {
      "cell_type": "code",
      "source": [
        "import pickle\n",
        "\n",
        "with open('/content/gdrive/MyDrive/IR A2/failed_indexes.pkl', 'rb') as f:\n",
        "    failed_indexes = pickle.load(f)\n",
        "\n",
        "print(\"Loaded failed_indexes:\", failed_indexes)"
      ],
      "metadata": {
        "colab": {
          "base_uri": "https://localhost:8080/"
        },
        "id": "NrOKK_nySvDR",
        "outputId": "12d1f332-bab6-4de0-efce-db8277327964"
      },
      "execution_count": null,
      "outputs": [
        {
          "output_type": "stream",
          "name": "stdout",
          "text": [
            "Loaded failed_indexes: [68, 68, 111, 111, 524, 702, 861, 937]\n"
          ]
        }
      ]
    },
    {
      "cell_type": "code",
      "source": [
        "import torch\n",
        "import torchvision.transforms as transforms\n",
        "import torchvision.models as models\n",
        "from PIL import Image\n",
        "import matplotlib.pyplot as plt\n",
        "\n",
        "# Define image transformations and normalization\n",
        "preprocess = transforms.Compose([\n",
        "    transforms.Resize(256),\n",
        "    transforms.CenterCrop(224),\n",
        "    transforms.ToTensor(),\n",
        "    transforms.Normalize(mean=[0.485, 0.456, 0.406], std=[0.229, 0.224, 0.225]),\n",
        "])\n",
        "\n",
        "# Load and preprocess an example image\n",
        "img_path = '/content/gdrive/MyDrive/IR A2/Images/entry_1/image_0.jpg'\n",
        "img = Image.open(img_path)\n",
        "\n",
        "# Show the original image\n",
        "plt.figure(figsize=(6, 6))\n",
        "plt.subplot(1, 2, 1)\n",
        "plt.imshow(img)\n",
        "plt.title('Original Image')\n",
        "plt.axis('off')\n",
        "\n",
        "# Apply transformations and show the transformed image\n",
        "transformed_img = preprocess(img)\n",
        "plt.subplot(1, 2, 2)\n",
        "plt.imshow(transformed_img.permute(1, 2, 0))\n",
        "plt.title('Transformed Image')\n",
        "plt.axis('off')\n",
        "\n",
        "plt.show()"
      ],
      "metadata": {
        "colab": {
          "base_uri": "https://localhost:8080/",
          "height": 288
        },
        "id": "ew1CMVYuLgQh",
        "outputId": "7d8c0dd1-946d-411e-8549-00a1e8fc9ee9"
      },
      "execution_count": null,
      "outputs": [
        {
          "output_type": "stream",
          "name": "stderr",
          "text": [
            "WARNING:matplotlib.image:Clipping input data to the valid range for imshow with RGB data ([0..1] for floats or [0..255] for integers).\n"
          ]
        },
        {
          "output_type": "display_data",
          "data": {
            "text/plain": [
              "<Figure size 600x600 with 2 Axes>"
            ],
            "image/png": "[encoded data removed]"
          },
          "metadata": {}
        }
      ]
    },
    {
      "cell_type": "code",
      "source": [
        "import os\n",
        "import torch\n",
        "import torchvision.transforms as transforms\n",
        "import torchvision.models as models\n",
        "from PIL import Image\n",
        "import pickle\n",
        "\n",
        "# Load pre-trained MobileNetV2 model\n",
        "model = models.mobilenet_v2(pretrained=True)\n",
        "model.eval()  # Set model to evaluation mode\n",
        "\n",
        "# Define image transformations and normalization\n",
        "preprocess = transforms.Compose([\n",
        "    transforms.Resize(256),\n",
        "    transforms.CenterCrop(224),\n",
        "    transforms.ToTensor(),\n",
        "    transforms.Normalize(mean=[0.485, 0.456, 0.406], std=[0.229, 0.224, 0.225]),\n",
        "])\n",
        "\n",
        "# Directory containing the entry folders\n",
        "base_dir = '/content/gdrive/MyDrive/IR A2/Images/'\n",
        "\n",
        "# Iterate over the entry folders\n",
        "for entry_folder in os.listdir(base_dir):\n",
        "    entry_folder_path = os.path.join(base_dir, entry_folder)\n",
        "    if not os.path.isdir(entry_folder_path):\n",
        "        continue\n",
        "\n",
        "    features_dict = {}\n",
        "\n",
        "    # Iterate over the images in the entry folder\n",
        "    for image_name in os.listdir(entry_folder_path):\n",
        "        if not image_name.endswith('.jpg'):\n",
        "            continue\n",
        "\n",
        "        image_path = os.path.join(entry_folder_path, image_name)\n",
        "\n",
        "        # Load and preprocess the image\n",
        "        img = Image.open(image_path)\n",
        "        img_tensor = preprocess(img).unsqueeze(0)  # Add batch dimension\n",
        "\n",
        "        # Extract features using MobileNetV2\n",
        "        with torch.no_grad():\n",
        "            features = model(img_tensor)\n",
        "\n",
        "        # Normalize the extracted features\n",
        "        normalized_features = torch.nn.functional.normalize(features.squeeze(0), p=2, dim=0)\n",
        "\n",
        "        # Save the normalized features to the features dictionary\n",
        "        features_dict[image_name] = normalized_features\n",
        "\n",
        "    # Pickle dump the features dictionary\n",
        "    features_pickle_path = os.path.join(entry_folder_path, 'features.pkl')\n",
        "    with open(features_pickle_path, 'wb') as f:\n",
        "        pickle.dump(features_dict, f)\n",
        "\n",
        "    print(f\"Features extracted and pickled for {entry_folder_path}\")"
      ],
      "metadata": {
        "id": "CPQAbM2RTPlV"
      },
      "execution_count": null,
      "outputs": []
    },
    {
      "cell_type": "code",
      "source": [
        "import nltk\n",
        "nltk.download('punkt')\n",
        "nltk.download('stopwords')\n",
        "nltk.download('wordnet')"
      ],
      "metadata": {
        "colab": {
          "base_uri": "https://localhost:8080/"
        },
        "id": "MnNyeDZOYl8V",
        "outputId": "1bf07936-6692-42d1-ff40-83990b15bb69"
      },
      "execution_count": null,
      "outputs": [
        {
          "output_type": "stream",
          "name": "stderr",
          "text": [
            "[nltk_data] Downloading package punkt to /root/nltk_data...\n",
            "[nltk_data]   Package punkt is already up-to-date!\n",
            "[nltk_data] Downloading package stopwords to /root/nltk_data...\n",
            "[nltk_data]   Package stopwords is already up-to-date!\n",
            "[nltk_data] Downloading package wordnet to /root/nltk_data...\n"
          ]
        },
        {
          "output_type": "execute_result",
          "data": {
            "text/plain": [
              "True"
            ]
          },
          "metadata": {},
          "execution_count": 26
        }
      ]
    },
    {
      "cell_type": "code",
      "source": [
        "from nltk.tokenize import word_tokenize\n",
        "from nltk.corpus import stopwords\n",
        "from nltk.stem import PorterStemmer, WordNetLemmatizer\n",
        "import pandas as pd\n",
        "import os\n",
        "import pickle\n",
        "import math\n",
        "\n",
        "# Define a function for text preprocessing\n",
        "def preprocess_text(text):\n",
        "    text = text.lower()\n",
        "    tokens = word_tokenize(text)\n",
        "    tokens = [word for word in tokens if word.isalnum()]\n",
        "    stop_words = set(stopwords.words('english'))\n",
        "    tokens = [word for word in tokens if word not in stop_words]\n",
        "    lemmatizer = WordNetLemmatizer()\n",
        "    tokens = [lemmatizer.lemmatize(word) for word in tokens]\n",
        "    return tokens\n",
        "\n",
        "# Directory containing the entry folders\n",
        "base_dir = '/content/gdrive/MyDrive/IR A2/Images/'\n",
        "\n",
        "# Collect the corpus and preprocess text\n",
        "corpus = []\n",
        "invalid_indexes = []\n",
        "for index, row in df.iterrows():\n",
        "    text_description = row[2]\n",
        "    if not isinstance(text_description, str):\n",
        "        print(f\"Text description at index {index} is not a string:\", text_description)\n",
        "        invalid_indexes.append(index)\n",
        "        text_description = 'NaN'  # Replace invalid input with 'NaN'\n",
        "    tokens = preprocess_text(text_description)\n",
        "    corpus.append(tokens)\n",
        "\n",
        "# Calculate TF-IDF scores for each entry\n",
        "tfidf_scores = []\n",
        "for doc in corpus:\n",
        "    tf_scores = {}\n",
        "    for term in doc:\n",
        "        tf_scores[term] = tf_scores.get(term, 0) + 1  # Term Frequency\n",
        "    for term in tf_scores:\n",
        "        tf_scores[term] = tf_scores[term] / len(doc)  # Normalize TF\n",
        "    idf_scores = {}\n",
        "    for term in set(doc):\n",
        "        doc_freq = sum(1 for doc in corpus if term in doc)\n",
        "        idf_scores[term] = math.log(len(corpus) / (1 + doc_freq))  # Inverse Document Frequency\n",
        "    tfidf_scores.append({term: tf_scores[term] * idf_scores[term] for term in tf_scores})\n",
        "\n",
        "# Save the TF-IDF scores to pickle files\n",
        "for index, tfidf in enumerate(tfidf_scores):\n",
        "    entry_folder_index = index + 1  # Entry folder index starts from 1\n",
        "    entry_folder_path = os.path.join(base_dir, f\"entry_{entry_folder_index}\")\n",
        "    if not os.path.exists(entry_folder_path):\n",
        "        os.makedirs(entry_folder_path)\n",
        "\n",
        "    # Pickle dump the TF-IDF scores\n",
        "    tfidf_path = os.path.join(entry_folder_path, 'tf-idf.pkl')\n",
        "    with open(tfidf_path, 'wb') as f:\n",
        "        pickle.dump(tfidf, f)\n",
        "\n",
        "    print(f\"TF-IDF scores pickled for entry_{entry_folder_index}\")\n",
        "\n",
        "print(\"Indexes with invalid values:\", invalid_indexes)\n"
      ],
      "metadata": {
        "id": "1KNC-CYlXQJE"
      },
      "execution_count": null,
      "outputs": []
    },
    {
      "cell_type": "code",
      "source": [
        "import pickle\n",
        "\n",
        "with open('/content/gdrive/MyDrive/IR A2/corpus.pkl', 'wb') as f:\n",
        "    pickle.dump(corpus, f)\n",
        "\n",
        "with open('/content/gdrive/MyDrive/IR A2/tfidf_scores.pkl', 'wb') as f:\n",
        "    pickle.dump(tfidf_scores, f)"
      ],
      "metadata": {
        "id": "ZMrPAiCTzrXs"
      },
      "execution_count": null,
      "outputs": []
    },
    {
      "cell_type": "code",
      "source": [
        "tfidf_scores[0]"
      ],
      "metadata": {
        "colab": {
          "base_uri": "https://localhost:8080/"
        },
        "id": "9q4-C93H2DPd",
        "outputId": "41480436-ada5-4242-e2b7-689990dc5b32"
      },
      "execution_count": null,
      "outputs": [
        {
          "output_type": "execute_result",
          "data": {
            "text/plain": [
              "{'loving': 0.35322115776986907,\n",
              " 'vintage': 0.5284421733087595,\n",
              " 'spring': 0.6437751649736402,\n",
              " 'strat': 0.21978915775586083,\n",
              " 'good': 0.10532527401283706,\n",
              " 'tension': 0.31403538010972787,\n",
              " 'great': 0.07575427705680808,\n",
              " 'stability': 0.34106638731693883,\n",
              " 'floating': 0.36809739452414975,\n",
              " 'bridge': 0.2234938144995149,\n",
              " 'want': 0.17180146257972037,\n",
              " 'way': 0.17357934571853118,\n",
              " 'go': 0.15622713916762004}"
            ]
          },
          "metadata": {},
          "execution_count": 82
        }
      ]
    },
    {
      "cell_type": "code",
      "source": [
        "print(corpus[999])\n",
        "print(index)"
      ],
      "metadata": {
        "colab": {
          "base_uri": "https://localhost:8080/"
        },
        "id": "0QdFRSSojoMo",
        "outputId": "349aea46-728a-487d-8639-bce2f6cfd258"
      },
      "execution_count": null,
      "outputs": [
        {
          "output_type": "stream",
          "name": "stdout",
          "text": [
            "['product', 'good', 'used', 'professional', 'mike', 'date', 'fast', 'shipping', 'worth', 'buying']\n",
            "999\n"
          ]
        }
      ]
    },
    {
      "cell_type": "code",
      "source": [
        "invalid_indexes"
      ],
      "metadata": {
        "colab": {
          "base_uri": "https://localhost:8080/"
        },
        "id": "g9SXDQOGkFh3",
        "outputId": "e61476d1-7d24-4345-b433-aa552e56f501"
      },
      "execution_count": null,
      "outputs": [
        {
          "output_type": "execute_result",
          "data": {
            "text/plain": [
              "[828]"
            ]
          },
          "metadata": {},
          "execution_count": 52
        }
      ]
    },
    {
      "cell_type": "code",
      "source": [
        "with open('/content/gdrive/MyDrive/IR A2/Images/entry_1000/text_features.pkl', 'rb') as f:\n",
        "    text_features = pickle.load(f)\n",
        "\n",
        "print(text_features)"
      ],
      "metadata": {
        "colab": {
          "base_uri": "https://localhost:8080/"
        },
        "id": "x5O-Gd90YfYI",
        "outputId": "34babdd3-5907-4237-cc6f-4fad6800085f"
      },
      "execution_count": null,
      "outputs": [
        {
          "output_type": "stream",
          "name": "stdout",
          "text": [
            "product good used professional mike date fast shipping worth buying\n"
          ]
        }
      ]
    },
    {
      "cell_type": "code",
      "source": [
        "with open('/content/gdrive/MyDrive/IR A2/Images/entry_1000/tfidf.pkl', 'rb') as f:\n",
        "    tfidf = pickle.load(f)\n",
        "\n",
        "# Print the loaded list\n",
        "print(\"Tfidf score:\", tfidf['product'])"
      ],
      "metadata": {
        "colab": {
          "base_uri": "https://localhost:8080/"
        },
        "id": "IsqGc8PfZoEv",
        "outputId": "9adfa0f0-d0d1-4076-a834-db304a984d27"
      },
      "execution_count": null,
      "outputs": [
        {
          "output_type": "stream",
          "name": "stdout",
          "text": [
            "Tfidf score: 0    0.209581\n",
            "Name: product, dtype: float64\n"
          ]
        }
      ]
    },
    {
      "cell_type": "markdown",
      "source": [
        "## Retrieval"
      ],
      "metadata": {
        "id": "F-s_cN4Rr78i"
      }
    },
    {
      "cell_type": "code",
      "source": [
        "# import nltk\n",
        "# nltk.download('punkt')\n",
        "# nltk.download('stopwords')\n",
        "# nltk.download('wordnet')"
      ],
      "metadata": {
        "colab": {
          "base_uri": "https://localhost:8080/"
        },
        "id": "TXY0jluSEmMM",
        "outputId": "1d258edc-37a4-4a5c-925f-919266df227a"
      },
      "execution_count": 23,
      "outputs": [
        {
          "output_type": "stream",
          "name": "stderr",
          "text": [
            "[nltk_data] Downloading package punkt to /root/nltk_data...\n",
            "[nltk_data]   Unzipping tokenizers/punkt.zip.\n"
          ]
        },
        {
          "output_type": "execute_result",
          "data": {
            "text/plain": [
              "True"
            ]
          },
          "metadata": {},
          "execution_count": 23
        }
      ]
    },
    {
      "cell_type": "code",
      "source": [
        "import os\n",
        "import torch\n",
        "import torchvision.transforms as transforms\n",
        "import torchvision.models as models\n",
        "from PIL import Image\n",
        "import pickle\n",
        "from io import BytesIO\n",
        "from sklearn.metrics.pairwise import cosine_similarity\n",
        "from sklearn.feature_extraction.text import TfidfVectorizer\n",
        "from nltk.tokenize import word_tokenize\n",
        "from nltk.corpus import stopwords\n",
        "from nltk.stem import WordNetLemmatizer\n",
        "import pandas as pd\n",
        "import math\n",
        "import string\n",
        "\n",
        "model = models.mobilenet_v2(pretrained=True)\n",
        "model.eval()\n",
        "\n",
        "preprocess = transforms.Compose([\n",
        "    transforms.Resize(256),\n",
        "    transforms.CenterCrop(224),\n",
        "    transforms.ToTensor(),\n",
        "    transforms.Normalize(mean=[0.485, 0.456, 0.406], std=[0.229, 0.224, 0.225]),\n",
        "])\n",
        "\n",
        "def preprocess_text(text):\n",
        "    text = text.lower()\n",
        "    tokens = word_tokenize(text)\n",
        "    tokens = [word for word in tokens if word.isalnum()]\n",
        "    stop_words = set(stopwords.words('english'))\n",
        "    tokens = [word for word in tokens if word not in stop_words]\n",
        "    lemmatizer = WordNetLemmatizer()\n",
        "    tokens = [lemmatizer.lemmatize(word) for word in tokens]\n",
        "    return tokens"
      ],
      "metadata": {
        "colab": {
          "base_uri": "https://localhost:8080/"
        },
        "id": "DrjL44hq1GVF",
        "outputId": "6f62a38b-ae71-4ef6-bfc4-ea865869177c"
      },
      "execution_count": 31,
      "outputs": [
        {
          "output_type": "stream",
          "name": "stderr",
          "text": [
            "/usr/local/lib/python3.10/dist-packages/torchvision/models/_utils.py:208: UserWarning: The parameter 'pretrained' is deprecated since 0.13 and may be removed in the future, please use 'weights' instead.\n",
            "  warnings.warn(\n",
            "/usr/local/lib/python3.10/dist-packages/torchvision/models/_utils.py:223: UserWarning: Arguments other than a weight enum or `None` for 'weights' are deprecated since 0.13 and may be removed in the future. The current behavior is equivalent to passing `weights=MobileNet_V2_Weights.IMAGENET1K_V1`. You can also use `weights=MobileNet_V2_Weights.DEFAULT` to get the most up-to-date weights.\n",
            "  warnings.warn(msg)\n"
          ]
        }
      ]
    },
    {
      "cell_type": "code",
      "source": [
        "with open('/content/gdrive/MyDrive/IR A2/corpus.pkl', 'rb') as f:\n",
        "    corpus = pickle.load(f)\n",
        "\n",
        "with open('/content/gdrive/MyDrive/IR A2/tfidf_scores.pkl', 'rb') as f:\n",
        "    tfidf_scores = pickle.load(f)"
      ],
      "metadata": {
        "id": "Y71-76oq1HP7"
      },
      "execution_count": 52,
      "outputs": []
    },
    {
      "cell_type": "code",
      "source": [
        "def add_review_to_corpus(input_review, corpus):\n",
        "    preprocessed_input_review = preprocess_text(input_review)\n",
        "\n",
        "    corpus.append(preprocessed_input_review)\n",
        "\n",
        "    tf_scores = {}\n",
        "    for term in preprocessed_input_review:\n",
        "        tf_scores[term] = tf_scores.get(term, 0) + 1  # Term Frequency\n",
        "    for term in tf_scores:\n",
        "        tf_scores[term] = tf_scores[term] / len(preprocessed_input_review)  # Normalize TF\n",
        "    idf_scores = {}\n",
        "    for term in set(preprocessed_input_review):\n",
        "        doc_freq = sum(1 for doc in corpus if term in doc)\n",
        "        idf_scores[term] = math.log(len(corpus) / (1 + doc_freq))  # Inverse Document Frequency\n",
        "    tfidf_scores.append({term: tf_scores[term] * idf_scores[term] for term in tf_scores})\n",
        "\n",
        "    input_tfidf_scores = tfidf_scores[-1]\n",
        "\n",
        "    return input_tfidf_scores"
      ],
      "metadata": {
        "id": "27vYSAlkuU5s"
      },
      "execution_count": 33,
      "outputs": []
    },
    {
      "cell_type": "code",
      "source": [
        "def calculate_tfidf_similarity(doc_tfidf_scores, input_tfidf_scores):\n",
        "    dot_product = sum(doc_tfidf_scores.get(term, 0) * input_tfidf_scores.get(term, 0) for term in set(doc_tfidf_scores) | set(input_tfidf_scores))\n",
        "    doc_norm = math.sqrt(sum(score ** 2 for score in doc_tfidf_scores.values()))\n",
        "    input_norm = math.sqrt(sum(score ** 2 for score in input_tfidf_scores.values()))\n",
        "    cosine_similarity = dot_product / (doc_norm * input_norm)\n",
        "\n",
        "    return cosine_similarity"
      ],
      "metadata": {
        "id": "M1ziEvWm-2pw"
      },
      "execution_count": 34,
      "outputs": []
    },
    {
      "cell_type": "code",
      "source": [
        "model = model.to(device)"
      ],
      "metadata": {
        "id": "IydtqT56rA2i"
      },
      "execution_count": 35,
      "outputs": []
    },
    {
      "cell_type": "markdown",
      "source": [
        "### Image Retrieval"
      ],
      "metadata": {
        "id": "iKd-hFUCsBrp"
      }
    },
    {
      "cell_type": "code",
      "source": [
        "with open('/content/gdrive/MyDrive/IR A2/corpus.pkl', 'rb') as f:\n",
        "  corpus = pickle.load(f)\n",
        "\n",
        "with open('/content/gdrive/MyDrive/IR A2/tfidf_scores.pkl', 'rb') as f:\n",
        "  tfidf_scores = pickle.load(f)"
      ],
      "metadata": {
        "id": "tFGSUsH6cneo"
      },
      "execution_count": 71,
      "outputs": []
    },
    {
      "cell_type": "code",
      "source": [
        "from io import BytesIO\n",
        "from tqdm import tqdm\n",
        "\n",
        "base_dir = '/content/gdrive/MyDrive/IR A2/Images/'\n",
        "\n",
        "input_image_path = '/content/gdrive/MyDrive/IR A2/Images/entry_1/image_0.jpg'\n",
        "image_url = 'https://images-na.ssl-images-amazon.com/images/I/81q5+IxFVUL._SY88.jpg'\n",
        "input_review = \"Loving these vintage springs on my vintage strat. They have a good tension and great stability. If you are floating your bridge and want the most out of your springs than these are the way to go.\"\n",
        "preprocessed_input_review = preprocess_text(input_review)\n",
        "\n",
        "try:\n",
        "  response = requests.get(image_url)\n",
        "  if response.status_code == 200:\n",
        "      input_img = Image.open(BytesIO(response.content))\n",
        "\n",
        "      print(f\"Image downloaded successfully.\")\n",
        "  else:\n",
        "      print(f\"Image could not be downloaded.\")\n",
        "except Exception as e:\n",
        "  print(f\"Image could not be downloaded. Error: {e}\")\n",
        "\n",
        "# input_img = Image.open(input_image_path)\n",
        "input_img_tensor = preprocess(input_img).unsqueeze(0)\n",
        "\n",
        "with torch.no_grad():\n",
        "    input_features = model(input_img_tensor)\n",
        "\n",
        "input_normalized_features = torch.nn.functional.normalize(input_features.squeeze(0), p=2, dim=0)\n",
        "\n",
        "input_tfidf_scores = add_review_to_corpus(input_review, corpus)\n",
        "\n",
        "similarities = []\n",
        "for entry_folder in tqdm(os.listdir(base_dir)):\n",
        "    entry_folder_path = os.path.join(base_dir, entry_folder)\n",
        "    if not os.path.isdir(entry_folder_path):\n",
        "        continue\n",
        "\n",
        "    features_path = os.path.join(entry_folder_path, 'features.pkl')\n",
        "\n",
        "    review_path = os.path.join(entry_folder_path, 'review.txt')\n",
        "    review = [line.strip() for line in open(review_path)]\n",
        "\n",
        "    if os.path.exists(features_path):\n",
        "        with open(features_path, 'rb') as f:\n",
        "            features_dict = pickle.load(f)\n",
        "\n",
        "        max_similarity = 0\n",
        "        for image_name, features in features_dict.items():\n",
        "            similarity = cosine_similarity(input_normalized_features.reshape(1, -1), features.reshape(1, -1))[0][0]\n",
        "            img_url_path = os.path.join(entry_folder_path, f\"image_url_{image_name.split('_')[1].split('.')[0]}.txt\")\n",
        "            if similarity > max_similarity:\n",
        "              max_similarity = similarity\n",
        "              url = [line.strip() for line in open(img_url_path)]\n",
        "\n",
        "        similarities.append((entry_folder, image_name, max_similarity, url, review))\n",
        "\n",
        "similarities.sort(key=lambda x: x[2], reverse=True)\n",
        "\n",
        "top_similar_images = similarities[:3]\n",
        "\n",
        "# plt.figure(figsize=(6, 6))\n",
        "# plt.subplot(1, 2, 1)\n",
        "# plt.imshow(input_img)\n",
        "# plt.title('Original Image')\n",
        "# plt.axis('off')\n",
        "\n",
        "# print(input_review)\n",
        "\n",
        "for idx, (entry_folder, image_name, max_similarity, url, review) in enumerate(top_similar_images):\n",
        "    # print(f\"Top {idx+1} - Folder: {entry_folder}, Image: {image_name}, Image URL: {url}, Similarity: {similarity}\")\n",
        "    entry_folder_path = os.path.join(base_dir, entry_folder)\n",
        "\n",
        "    id_path = os.path.join(entry_folder_path, 'id.txt')\n",
        "    with open(id_path, 'r') as file:\n",
        "        id = file.read()\n",
        "\n",
        "    tfidf_score_path = os.path.join(entry_folder_path, 'tf-idf.pkl')\n",
        "    with open(tfidf_score_path, 'rb') as f:\n",
        "        tfidf_scores = pickle.load(f)\n",
        "    text_similarity = calculate_tfidf_similarity(tfidf_scores, input_tfidf_scores)\n",
        "\n",
        "    print(f\"\\nTop {idx+1} - Image URL: {url}\")\n",
        "    print(f\"ID: {id}\")\n",
        "    print(f\"Review: {review}\")\n",
        "    print(f\"Image Similarity: {max_similarity}\")\n",
        "    print(f\"Textual Similarity: {text_similarity}\")\n",
        "    print(f\"Composite Similarity: {(max_similarity + text_similarity)/2}\")\n"
      ],
      "metadata": {
        "colab": {
          "base_uri": "https://localhost:8080/"
        },
        "id": "wJ8MPEophgcY",
        "outputId": "51159538-b7b8-4118-ffc6-e43d6dced005"
      },
      "execution_count": 72,
      "outputs": [
        {
          "output_type": "stream",
          "name": "stdout",
          "text": [
            "Image downloaded successfully.\n"
          ]
        },
        {
          "output_type": "stream",
          "name": "stderr",
          "text": [
            "100%|██████████| 1000/1000 [00:15<00:00, 66.33it/s]\n"
          ]
        },
        {
          "output_type": "stream",
          "name": "stdout",
          "text": [
            "\n",
            "Top 1 - Image URL: ['https://images-na.ssl-images-amazon.com/images/I/81q5+IxFVUL._SY88.jpg']\n",
            "ID: 1205\n",
            "Review: ['Loving these vintage springs on my vintage strat. They have a good tension and great stability. If you are floating your bridge and want the most out of your springs than these are the way to go.']\n",
            "Image Similarity: 0.9832489490509033\n",
            "Textual Similarity: 0.9999431108858823\n",
            "Composite Similarity: 0.9915960299683928\n",
            "\n",
            "Top 2 - Image URL: ['https://images-na.ssl-images-amazon.com/images/I/71nSUnv7znL._SY88.jpg']\n",
            "ID: 1734\n",
            "Review: [\"I bought the classical guitar case. It fits my Ruben Flores 1200 perfectly. I had my doubts for the low price. It's very solid constructed. It comes with two keys for a lockable latch. It has a nice surface texture that feels like leather. The whole thing feels really well-built.\"]\n",
            "Image Similarity: 0.8629798293113708\n",
            "Textual Similarity: 0.0\n",
            "Composite Similarity: 0.4314899146556854\n",
            "\n",
            "Top 3 - Image URL: ['https://images-na.ssl-images-amazon.com/images/I/61QP1AW0rDL._SY88.jpg']\n",
            "ID: 2227\n",
            "Review: ['Squier Vintage Modified Jazz Bass.', '', \"If your reading this you already know all the major features so I won't dig into that.\", 'This is an outstanding bass for the price...And even if it had a larger price tag it would still be an excellent choice.  The quality is excellent , it has great pickups and it sounds just as good as my Fender custom shop jazz.', \"Don't be fooled by the price,  you don't need to spend this month's rent on a bass to get an excellent instrument that is well beyond expectations.  Add a gator hard shell case and you have a super sweet jazz bass.\", '-EXCELLENT OVERALL QUALITY', '-EXCELLENT FIT AND FINISH', '-NO SHARP FRET EDGES', '-GREAT STOCK DUNCAN DESIGNED PICKUPS ..EXCELLENT', '-KILLER BASS AT TWICE THE PRICE', 'Highly Recomended. You will only note one major difference if you audition the squire jazz and the fender jazz side by side. ...the decal.']\n",
            "Image Similarity: 0.8610721230506897\n",
            "Textual Similarity: 0.04525149144620295\n",
            "Composite Similarity: 0.45316180724844635\n"
          ]
        }
      ]
    },
    {
      "cell_type": "markdown",
      "source": [
        "### Text Retrieval"
      ],
      "metadata": {
        "id": "uTNXk9mjsGJL"
      }
    },
    {
      "cell_type": "code",
      "source": [
        "with open('/content/gdrive/MyDrive/IR A2/corpus.pkl', 'rb') as f:\n",
        "  corpus = pickle.load(f)\n",
        "\n",
        "with open('/content/gdrive/MyDrive/IR A2/tfidf_scores.pkl', 'rb') as f:\n",
        "  tfidf_scores = pickle.load(f)"
      ],
      "metadata": {
        "id": "vnJ2v3LpcmAp"
      },
      "execution_count": 75,
      "outputs": []
    },
    {
      "cell_type": "code",
      "source": [
        "from io import BytesIO\n",
        "from tqdm import tqdm\n",
        "\n",
        "base_dir = '/content/gdrive/MyDrive/IR A2/Images/'\n",
        "\n",
        "input_image_path = '/content/gdrive/MyDrive/IR A2/Images/entry_1/image_0.jpg'\n",
        "image_url = 'https://images-na.ssl-images-amazon.com/images/I/81q5+IxFVUL._SY88.jpg'\n",
        "input_review = \"Loving these vintage springs on my vintage strat. They have a good tension and great stability. If you are floating your bridge and want the most out of your springs than these are the way to go.\"\n",
        "preprocessed_input_review = preprocess_text(input_review)\n",
        "\n",
        "try:\n",
        "  response = requests.get(image_url)\n",
        "  if response.status_code == 200:\n",
        "      input_img = Image.open(BytesIO(response.content))\n",
        "\n",
        "      print(f\"Image downloaded successfully.\")\n",
        "  else:\n",
        "      print(f\"Image could not be downloaded.\")\n",
        "except Exception as e:\n",
        "  print(f\"Image could not be downloaded. Error: {e}\")\n",
        "\n",
        "# input_img = Image.open(input_image_path)\n",
        "input_img_tensor = preprocess(input_img).unsqueeze(0)\n",
        "\n",
        "with torch.no_grad():\n",
        "    input_features = model(input_img_tensor)\n",
        "\n",
        "input_normalized_features = torch.nn.functional.normalize(input_features.squeeze(0), p=2, dim=0)\n",
        "\n",
        "input_tfidf_scores = add_review_to_corpus(input_review, corpus)\n",
        "\n",
        "similarities = []\n",
        "for entry_folder in tqdm(os.listdir(base_dir)):\n",
        "    entry_folder_path = os.path.join(base_dir, entry_folder)\n",
        "    if not os.path.isdir(entry_folder_path):\n",
        "        continue\n",
        "\n",
        "    tfidf_score_path = os.path.join(entry_folder_path, 'tf-idf.pkl')\n",
        "    with open(tfidf_score_path, 'rb') as f:\n",
        "      tfidf_scores = pickle.load(f)\n",
        "    text_similarity = calculate_tfidf_similarity(tfidf_scores, input_tfidf_scores)\n",
        "\n",
        "    review_path = os.path.join(entry_folder_path, 'review.txt')\n",
        "    review = [line.strip() for line in open(review_path)]\n",
        "\n",
        "    similarities.append((entry_folder, text_similarity, review))\n",
        "\n",
        "similarities.sort(key=lambda x: x[1], reverse=True)\n",
        "\n",
        "top_similar_reviews = similarities[:3]\n",
        "\n",
        "for idx, (entry_folder, text_similarity, review) in enumerate(top_similar_reviews):\n",
        "    # print(f\"Top {idx+1} - Folder: {entry_folder}, Image: {image_name}, Image URL: {url}, Similarity: {similarity}\")\n",
        "    entry_folder_path = os.path.join(base_dir, entry_folder)\n",
        "    features_path = os.path.join(entry_folder_path, 'features.pkl')\n",
        "\n",
        "    id_path = os.path.join(entry_folder_path, 'id.txt')\n",
        "    with open(id_path, 'r') as file:\n",
        "        id = file.read()\n",
        "\n",
        "    with open(features_path, 'rb') as f:\n",
        "        features_dict = pickle.load(f)\n",
        "\n",
        "    max_similarity = 0\n",
        "\n",
        "    for image_name, features in features_dict.items():\n",
        "        similarity = cosine_similarity(input_normalized_features.reshape(1, -1), features.reshape(1, -1))[0][0]\n",
        "        img_url_path = os.path.join(entry_folder_path, f\"image_url_{image_name.split('_')[1].split('.')[0]}.txt\")\n",
        "        if similarity > max_similarity:\n",
        "            max_similarity = similarity\n",
        "            url = [line.strip() for line in open(img_url_path)]\n",
        "\n",
        "    print(f\"\\nTop {idx+1} - Image URL: {url}\")\n",
        "    print(f\"ID: {id}\")\n",
        "    print(f\"Review: {review}\")\n",
        "    print(f\"Image Similarity: {max_similarity}\")\n",
        "    print(f\"Textual Similarity: {text_similarity}\")\n",
        "    print(f\"Composite Similarity: {(max_similarity + text_similarity)/2}\")"
      ],
      "metadata": {
        "colab": {
          "base_uri": "https://localhost:8080/"
        },
        "id": "CJjg637-Mr3o",
        "outputId": "f433f933-6154-4176-973f-3c8399a76147"
      },
      "execution_count": 76,
      "outputs": [
        {
          "output_type": "stream",
          "name": "stdout",
          "text": [
            "Image downloaded successfully.\n"
          ]
        },
        {
          "output_type": "stream",
          "name": "stderr",
          "text": [
            "100%|██████████| 1000/1000 [00:07<00:00, 136.50it/s]\n"
          ]
        },
        {
          "output_type": "stream",
          "name": "stdout",
          "text": [
            "\n",
            "Top 1 - Image URL: ['https://images-na.ssl-images-amazon.com/images/I/81q5+IxFVUL._SY88.jpg']\n",
            "ID: 1205\n",
            "Review: ['Loving these vintage springs on my vintage strat. They have a good tension and great stability. If you are floating your bridge and want the most out of your springs than these are the way to go.']\n",
            "Image Similarity: 0.9832489490509033\n",
            "Textual Similarity: 0.9999431108858823\n",
            "Composite Similarity: 0.9915960299683928\n",
            "\n",
            "Top 2 - Image URL: ['https://images-na.ssl-images-amazon.com/images/I/81Z1d7HaBfL._SY88.jpg']\n",
            "ID: 3430\n",
            "Review: ['Nice solid springs and defeinitely more silent. Easy installation and the black looks cool.', '', 'Pictured with some old uninstalled springs next to them.']\n",
            "Image Similarity: 0.5509961247444153\n",
            "Textual Similarity: 0.3004787532110201\n",
            "Composite Similarity: 0.42573743897771765\n",
            "\n",
            "Top 3 - Image URL: ['https://images-na.ssl-images-amazon.com/images/I/71t4gm+RcYL._SY88.jpg']\n",
            "ID: 3480\n",
            "Review: [\"All I can say is I'm loving it.\"]\n",
            "Image Similarity: 0.715172529220581\n",
            "Textual Similarity: 0.26303869497749127\n",
            "Composite Similarity: 0.48910561209903614\n"
          ]
        }
      ]
    },
    {
      "cell_type": "markdown",
      "source": [
        "### Combine Retrieval"
      ],
      "metadata": {
        "id": "58oxQ1MIsIRV"
      }
    },
    {
      "cell_type": "code",
      "source": [
        "with open('/content/gdrive/MyDrive/IR A2/corpus.pkl', 'rb') as f:\n",
        "  corpus = pickle.load(f)\n",
        "\n",
        "with open('/content/gdrive/MyDrive/IR A2/tfidf_scores.pkl', 'rb') as f:\n",
        "  tfidf_scores = pickle.load(f)"
      ],
      "metadata": {
        "id": "3S5aE1HS8JUQ"
      },
      "execution_count": 77,
      "outputs": []
    },
    {
      "cell_type": "code",
      "source": [
        "from io import BytesIO\n",
        "from tqdm import tqdm\n",
        "\n",
        "base_dir = '/content/gdrive/MyDrive/IR A2/Images/'\n",
        "\n",
        "input_image_path = '/content/gdrive/MyDrive/IR A2/Images/entry_1/image_0.jpg'\n",
        "image_url = 'https://images-na.ssl-images-amazon.com/images/I/81q5+IxFVUL._SY88.jpg'\n",
        "input_review = \"Loving these vintage springs on my vintage strat. They have a good tension and great stability. If you are floating your bridge and want the most out of your springs than these are the way to go.\"\n",
        "preprocessed_input_review = preprocess_text(input_review)\n",
        "\n",
        "try:\n",
        "  response = requests.get(image_url)\n",
        "  if response.status_code == 200:\n",
        "      input_img = Image.open(BytesIO(response.content))\n",
        "\n",
        "      print(f\"Image downloaded successfully.\")\n",
        "  else:\n",
        "      print(f\"Image could not be downloaded.\")\n",
        "except Exception as e:\n",
        "  print(f\"Image could not be downloaded. Error: {e}\")\n",
        "\n",
        "# input_img = Image.open(input_image_path)\n",
        "input_img_tensor = preprocess(input_img).unsqueeze(0)\n",
        "\n",
        "with torch.no_grad():\n",
        "    input_features = model(input_img_tensor)\n",
        "\n",
        "input_normalized_features = torch.nn.functional.normalize(input_features.squeeze(0), p=2, dim=0)\n",
        "\n",
        "input_tfidf_scores = add_review_to_corpus(input_review, corpus)\n",
        "\n",
        "similarities = []\n",
        "for entry_folder in tqdm(os.listdir(base_dir)):\n",
        "    entry_folder_path = os.path.join(base_dir, entry_folder)\n",
        "    if not os.path.isdir(entry_folder_path):\n",
        "        continue\n",
        "\n",
        "    features_path = os.path.join(entry_folder_path, 'features.pkl')\n",
        "\n",
        "    review_path = os.path.join(entry_folder_path, 'review.txt')\n",
        "    review = [line.strip() for line in open(review_path)]\n",
        "\n",
        "    tfidf_score_path = os.path.join(entry_folder_path, 'tf-idf.pkl')\n",
        "    with open(tfidf_score_path, 'rb') as f:\n",
        "        tfidf_scores = pickle.load(f)\n",
        "    text_similarity = calculate_tfidf_similarity(tfidf_scores, input_tfidf_scores)\n",
        "\n",
        "    if os.path.exists(features_path):\n",
        "        with open(features_path, 'rb') as f:\n",
        "            features_dict = pickle.load(f)\n",
        "\n",
        "        max_similarity = 0\n",
        "        for image_name, features in features_dict.items():\n",
        "            similarity = cosine_similarity(input_normalized_features.reshape(1, -1), features.reshape(1, -1))[0][0]\n",
        "            img_url_path = os.path.join(entry_folder_path, f\"image_url_{image_name.split('_')[1].split('.')[0]}.txt\")\n",
        "            if similarity > max_similarity:\n",
        "              max_similarity = similarity\n",
        "              url = [line.strip() for line in open(img_url_path)]\n",
        "              composite_similarity = (text_similarity + max_similarity)/2\n",
        "\n",
        "        similarities.append((entry_folder, image_name, max_similarity, url, review, text_similarity, composite_similarity))\n",
        "\n",
        "similarities.sort(key=lambda x: x[-1], reverse=True)\n",
        "\n",
        "top_similar_items = similarities[:3]\n",
        "\n",
        "# plt.figure(figsize=(6, 6))\n",
        "# plt.subplot(1, 2, 1)\n",
        "# plt.imshow(input_img)\n",
        "# plt.title('Original Image')\n",
        "# plt.axis('off')\n",
        "\n",
        "# print(input_review)\n",
        "\n",
        "for idx, (entry_folder, image_name, max_similarity, url, review, text_similarity, composite_similarity) in enumerate(top_similar_items):\n",
        "    # print(f\"Top {idx+1} - Folder: {entry_folder}, Image: {image_name}, Image URL: {url}, Similarity: {similarity}\")\n",
        "    entry_folder_path = os.path.join(base_dir, entry_folder)\n",
        "    id_path = os.path.join(entry_folder_path, 'id.txt')\n",
        "    with open(id_path, 'r') as file:\n",
        "        id = file.read()\n",
        "\n",
        "    print(f\"\\nTop {idx+1} - Image URL: {url}\")\n",
        "    print(f\"ID: {id}\")\n",
        "    print(f\"Review: {review}\")\n",
        "    print(f\"Image Similarity: {max_similarity}\")\n",
        "    print(f\"Textual Similarity: {text_similarity}\")\n",
        "    print(f\"Composite Similarity: {(max_similarity + text_similarity)/2}\")"
      ],
      "metadata": {
        "colab": {
          "base_uri": "https://localhost:8080/"
        },
        "id": "BjzEhxQzsHwl",
        "outputId": "d5ad5292-08f9-4e5a-e425-5f68b647116b"
      },
      "execution_count": 78,
      "outputs": [
        {
          "output_type": "stream",
          "name": "stdout",
          "text": [
            "Image downloaded successfully.\n"
          ]
        },
        {
          "output_type": "stream",
          "name": "stderr",
          "text": [
            "100%|██████████| 1000/1000 [00:17<00:00, 55.84it/s]\n"
          ]
        },
        {
          "output_type": "stream",
          "name": "stdout",
          "text": [
            "\n",
            "Top 1 - Image URL: ['https://images-na.ssl-images-amazon.com/images/I/81q5+IxFVUL._SY88.jpg']\n",
            "ID: 1205\n",
            "Review: ['Loving these vintage springs on my vintage strat. They have a good tension and great stability. If you are floating your bridge and want the most out of your springs than these are the way to go.']\n",
            "Image Similarity: 0.9832489490509033\n",
            "Textual Similarity: 0.9999431108858823\n",
            "Composite Similarity: 0.9915960299683928\n",
            "\n",
            "Top 2 - Image URL: ['https://images-na.ssl-images-amazon.com/images/I/71t4gm+RcYL._SY88.jpg']\n",
            "ID: 3480\n",
            "Review: [\"All I can say is I'm loving it.\"]\n",
            "Image Similarity: 0.715172529220581\n",
            "Textual Similarity: 0.26303869497749127\n",
            "Composite Similarity: 0.48910561209903614\n",
            "\n",
            "Top 3 - Image URL: ['https://images-na.ssl-images-amazon.com/images/I/61QP1AW0rDL._SY88.jpg']\n",
            "ID: 2227\n",
            "Review: ['Squier Vintage Modified Jazz Bass.', '', \"If your reading this you already know all the major features so I won't dig into that.\", 'This is an outstanding bass for the price...And even if it had a larger price tag it would still be an excellent choice.  The quality is excellent , it has great pickups and it sounds just as good as my Fender custom shop jazz.', \"Don't be fooled by the price,  you don't need to spend this month's rent on a bass to get an excellent instrument that is well beyond expectations.  Add a gator hard shell case and you have a super sweet jazz bass.\", '-EXCELLENT OVERALL QUALITY', '-EXCELLENT FIT AND FINISH', '-NO SHARP FRET EDGES', '-GREAT STOCK DUNCAN DESIGNED PICKUPS ..EXCELLENT', '-KILLER BASS AT TWICE THE PRICE', 'Highly Recomended. You will only note one major difference if you audition the squire jazz and the fender jazz side by side. ...the decal.']\n",
            "Image Similarity: 0.8610721230506897\n",
            "Textual Similarity: 0.04525149144620295\n",
            "Composite Similarity: 0.45316180724844635\n"
          ]
        }
      ]
    }
  ]
}