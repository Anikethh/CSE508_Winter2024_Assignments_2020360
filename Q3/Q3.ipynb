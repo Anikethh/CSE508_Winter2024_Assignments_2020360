{
 "cells": [
  {
   "cell_type": "code",
   "execution_count": 2,
   "metadata": {},
   "outputs": [
    {
     "name": "stderr",
     "output_type": "stream",
     "text": [
      "[nltk_data] Downloading package punkt to\n",
      "[nltk_data]     C:\\Users\\lenovo\\AppData\\Roaming\\nltk_data...\n",
      "[nltk_data]   Package punkt is already up-to-date!\n",
      "[nltk_data] Downloading package stopwords to\n",
      "[nltk_data]     C:\\Users\\lenovo\\AppData\\Roaming\\nltk_data...\n",
      "[nltk_data]   Package stopwords is already up-to-date!\n"
     ]
    },
    {
     "data": {
      "text/plain": [
       "True"
      ]
     },
     "execution_count": 2,
     "metadata": {},
     "output_type": "execute_result"
    }
   ],
   "source": [
    "import os\n",
    "import nltk\n",
    "import string\n",
    "import pickle\n",
    "\n",
    "nltk.download('punkt')\n",
    "nltk.download('stopwords')"
   ]
  },
  {
   "cell_type": "code",
   "execution_count": 3,
   "metadata": {},
   "outputs": [],
   "source": [
    "def preprocess_text(text):\n",
    "    text = text.lower()\n",
    "    tokens = nltk.word_tokenize(text)\n",
    "    stop_words = set(nltk.corpus.stopwords.words('english'))\n",
    "    tokens = [token for token in tokens if token not in string.punctuation and token not in stop_words]\n",
    "    tokens = [token for token in tokens if token.strip() != '']\n",
    "    return tokens\n",
    "\n",
    "def create_positional_index(dataset_path):\n",
    "    positional_index = {}\n",
    "    for filename in os.listdir(dataset_path):\n",
    "        if filename.endswith(\".txt\"):\n",
    "            file_path = os.path.join(dataset_path, filename)\n",
    "            with open(file_path, 'r', encoding='utf-8') as file:\n",
    "                text = file.read()\n",
    "                tokens = preprocess_text(text)\n",
    "                for position, term in enumerate(tokens):\n",
    "                    if term not in positional_index:\n",
    "                        positional_index[term] = {}\n",
    "                    if filename not in positional_index[term]:\n",
    "                        positional_index[term][filename] = []\n",
    "                    positional_index[term][filename].append(position)\n",
    "    return positional_index\n",
    "\n",
    "def save_positional_index(positional_index, output_file):\n",
    "    with open(output_file, 'wb') as file:\n",
    "        pickle.dump(positional_index, file)\n",
    "\n",
    "def load_positional_index(pickle_file):\n",
    "    with open(pickle_file, 'rb') as file:\n",
    "        positional_index = pickle.load(file)\n",
    "    return positional_index\n",
    "\n",
    "dataset_path = \"text_files_preprocessed\"\n",
    "output_file = \"positional_index.pickle\"\n",
    "\n",
    "positional_index = create_positional_index(dataset_path)\n",
    "\n",
    "save_positional_index(positional_index, output_file)\n",
    "\n",
    "positional_index_loaded = load_positional_index(output_file)\n"
   ]
  },
  {
   "cell_type": "code",
   "execution_count": 19,
   "metadata": {},
   "outputs": [
    {
     "name": "stdout",
     "output_type": "stream",
     "text": [
      "['great', 'guitar']\n",
      "Number of documents retrieved for query 1 using positional index: 5\n",
      "Names of documents retrieved for query 1 using positional index: file2.txt, file277.txt, file271.txt, file235.txt, file131.txt\n",
      "['ring', 'finger']\n",
      "Number of documents retrieved for query 2 using positional index: 2\n",
      "Names of documents retrieved for query 2 using positional index: file994.txt, file70.txt\n"
     ]
    }
   ],
   "source": [
    "def preprocess_input(input_sequence):\n",
    "    preprocessed_sequence = []\n",
    "    for query in input_sequence:\n",
    "        preprocessed_query = preprocess_text(query)\n",
    "        preprocessed_sequence.append(preprocessed_query)\n",
    "    return preprocessed_sequence\n",
    "\n",
    "\n",
    "def evaluate_phrase_query(positional_index, query):\n",
    "    query_terms = query\n",
    "    result = {}\n",
    "    count = 0\n",
    "    for word in query_terms:\n",
    "        try:\n",
    "            current_dict = positional_index[word]\n",
    "        except KeyError:\n",
    "            print(\"No documents found for the term:\", word)\n",
    "            return []\n",
    "\n",
    "        if not result:\n",
    "            result = current_dict\n",
    "        else:\n",
    "            common_docs = set(result.keys()).intersection(set(current_dict.keys()))\n",
    "            temp_result = {}\n",
    "            if not common_docs:\n",
    "                print(\"No common documents found for the terms:\", query_terms)\n",
    "                return []\n",
    "            for doc_id in common_docs:\n",
    "                temp_result[doc_id] = result[doc_id]\n",
    "            result = temp_result\n",
    "            for doc_id in common_docs:\n",
    "                inc_list = [x + count for x in result[doc_id]]\n",
    "                temp_pos = set(current_dict[doc_id]).intersection(set(inc_list))\n",
    "                if not temp_pos:\n",
    "                    del result[doc_id]\n",
    "        count += 1\n",
    "\n",
    "    return list(result.keys())\n",
    "\n",
    "if __name__ == \"__main__\":\n",
    "    positional_index = load_positional_index(\"positional_index.pickle\")\n",
    "\n",
    "    N = int(input(\"Enter the number of queries: \"))\n",
    "    queries = []\n",
    "    for _ in range(N):\n",
    "        query = input().strip()\n",
    "        queries.append(query)\n",
    "\n",
    "    preprocessed_queries = preprocess_input(queries)\n",
    "\n",
    "    for idx, query in enumerate(queries):\n",
    "        print(preprocessed_queries[idx])\n",
    "        result = evaluate_phrase_query(positional_index, preprocessed_queries[idx])\n",
    "        print(f\"Number of documents retrieved for query {idx+1} using positional index: {len(result)}\")\n",
    "        print(f\"Names of documents retrieved for query {idx+1} using positional index: \" + \", \".join([f\"{doc}\" for doc in result]))"
   ]
  },
  {
   "cell_type": "code",
   "execution_count": null,
   "metadata": {},
   "outputs": [],
   "source": []
  }
 ],
 "metadata": {
  "kernelspec": {
   "display_name": "Python 3",
   "language": "python",
   "name": "python3"
  },
  "language_info": {
   "codemirror_mode": {
    "name": "ipython",
    "version": 3
   },
   "file_extension": ".py",
   "mimetype": "text/x-python",
   "name": "python",
   "nbconvert_exporter": "python",
   "pygments_lexer": "ipython3",
   "version": "3.9.13"
  }
 },
 "nbformat": 4,
 "nbformat_minor": 2
}
