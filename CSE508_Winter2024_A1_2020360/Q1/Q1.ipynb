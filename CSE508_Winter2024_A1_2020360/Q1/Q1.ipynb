{
 "cells": [
  {
   "cell_type": "code",
   "execution_count": 6,
   "metadata": {},
   "outputs": [
    {
     "name": "stderr",
     "output_type": "stream",
     "text": [
      "[nltk_data] Downloading package punkt to\n",
      "[nltk_data]     C:\\Users\\lenovo\\AppData\\Roaming\\nltk_data...\n",
      "[nltk_data]   Package punkt is already up-to-date!\n",
      "[nltk_data] Downloading package stopwords to\n",
      "[nltk_data]     C:\\Users\\lenovo\\AppData\\Roaming\\nltk_data...\n",
      "[nltk_data]   Package stopwords is already up-to-date!\n"
     ]
    },
    {
     "name": "stdout",
     "output_type": "stream",
     "text": [
      "Processing: file1.txt\n",
      "Contents before preprocessing:\n",
      "Loving these vintage springs on my vintage strat. They have a good tension and great stability. If you are floating your bridge and want the most out of your springs than these are the way to go.\n",
      "Contents after preprocessing:\n",
      "loving vintage springs vintage strat good tension great stability floating bridge want springs way go\n",
      "\n",
      "\n",
      "Processing: file10.txt\n",
      "Contents before preprocessing:\n",
      "Awesome stand!\n",
      "\n",
      "Tip: The bottom part that supports the guitar had a weird angle when arrived, making the guitar slide back, becoming almost 100% on a vertical.\n",
      "To solve this, I assembled the product and the put a some pressure on the support frame, making it bend a little. Now my guitar sits perfectly. Check photos!\n",
      "Contents after preprocessing:\n",
      "awesome stand tip bottom part supports guitar weird angle arrived making guitar slide back becoming almost 100 vertical solve assembled product put pressure support frame making bend little guitar sits perfectly check photos\n",
      "\n",
      "\n",
      "Processing: file100.txt\n",
      "Contents before preprocessing:\n",
      "This amp is the real deal.  Great crunch and gain tones and with some tweaking, not half bad clean\"ish\" tones.  I've played this through the two 8\" Orange cabs (had to get those too as they were just TOO cool ((and cute)) and not crazy money) and the sound is very pleasing and revealing for a practice amp.  I primarily play it through my Blackstar stack that I've fitted with Celestion V30s... Wow...there it is~!!!  You would never know this thing was such a tone monster... Even with just a few knobs it's easy to get lost for hours playing this thing.  My favorite match is with my Chapman ML-1 Hotrod...which only has a volume \"tone\" control (EVH fans get this).  Not a lot of mucking around with too many knobs or too many options on either the guitar or this amp... Just tone up and go.  I see the Micro Dark just came out...that's probably next~!  Higher gain, buffered effects loop and speaker emu at the headphone out for recording direct (if that's your thing).\n",
      "Contents after preprocessing:\n",
      "amp real deal great crunch gain tones tweaking half bad clean '' ish '' tones 've played two 8 '' orange cabs get cool cute crazy money sound pleasing revealing practice amp primarily play blackstar stack 've fitted celestion v30s ... wow ... is~ would never know thing tone monster ... even knobs 's easy get lost hours playing thing favorite match chapman ml-1 hotrod ... volume `` tone '' control evh fans get lot mucking around many knobs many options either guitar amp ... tone go see micro dark came ... 's probably next~ higher gain buffered effects loop speaker emu headphone recording direct 's thing\n",
      "\n",
      "\n",
      "Processing: file101.txt\n",
      "Contents before preprocessing:\n",
      "You can do a lot with this mixer. its great for podcasting. has 4 outputs that can be used to monitor, record, cue audio...The mute to 3/4 figure on every channel is fantastic and the three source switch to headphone/control room is a must for podcasting. Also has aux return inputs that can be used as extra stereo inputs and be volumed by the aux return knobs.\n",
      "\n",
      "Only thing I didn't like about this mixer is the XLR outputs in back that require adaptors to use with RCA or 1/4 plugs. get the adaptors with it\n",
      "Contents after preprocessing:\n",
      "lot mixer great podcasting 4 outputs used monitor record cue audio ... mute 3/4 figure every channel fantastic three source switch headphone/control room must podcasting also aux return inputs used extra stereo inputs volumed aux return knobs thing n't like mixer xlr outputs back require adaptors use rca 1/4 plugs get adaptors\n",
      "\n",
      "\n",
      "Processing: file102.txt\n",
      "Contents before preprocessing:\n",
      "<div id=\"video-block-R2VOQ5CBZHFCKL\" class=\"a-section a-spacing-small a-spacing-top-mini video-block\"></div><input type=\"hidden\" name=\"\" value=\"https://images-na.ssl-images-amazon.com/images/I/E1%2B6MhK2MfS.mp4\" class=\"video-url\"><input type=\"hidden\" name=\"\" value=\"https://images-na.ssl-images-amazon.com/images/I/21-Jk5lxqsS.png\" class=\"video-slate-img-url\">&nbsp;This mic is a BOSS and a lot better than just about any other mic I've seen or used out-of-the-box for voice over. It sounds great even before processing, and with some compression and EQ, it sounds fantastic. It rejects a ton of background noise and sounds amazing.\n",
      "\n",
      "It runs very HOT! So you'll want clean pre-amping as to get a clean signal, but this is an amazing mic for the price.\n",
      "Contents after preprocessing:\n",
      "div id= '' video-block-r2voq5cbzhfckl '' class= '' a-section a-spacing-small a-spacing-top-mini video-block '' /div input type= '' hidden '' name= '' '' value= '' https //images-na.ssl-images-amazon.com/images/i/e1 2b6mhk2mfs.mp4 '' class= '' video-url '' input type= '' hidden '' name= '' '' value= '' https //images-na.ssl-images-amazon.com/images/i/21-jk5lxqss.png '' class= '' video-slate-img-url '' nbsp mic boss lot better mic 've seen used out-of-the-box voice sounds great even processing compression eq sounds fantastic rejects ton background noise sounds amazing runs hot 'll want clean pre-amping get clean signal amazing mic price\n",
      "\n",
      "\n"
     ]
    }
   ],
   "source": [
    "import os\n",
    "import nltk\n",
    "from nltk.tokenize import word_tokenize\n",
    "from nltk.corpus import stopwords\n",
    "import string\n",
    "\n",
    "nltk.download('punkt')\n",
    "nltk.download('stopwords')\n",
    "\n",
    "dataset_path = \"text_files\"\n",
    "preprocessed_path = \"text_files_preprocessed\"\n",
    "\n",
    "def preprocess_text(text):\n",
    "    text = text.lower()\n",
    "    tokens = word_tokenize(text)\n",
    "    stop_words = set(stopwords.words('english'))\n",
    "    tokens = [token for token in tokens if token not in stop_words]\n",
    "    tokens = [token for token in tokens if token not in string.punctuation]\n",
    "    tokens = [token for token in tokens if token.strip() != '']\n",
    "    return ' '.join(tokens)\n",
    "\n",
    "def preprocess_file(input_file, output_file):\n",
    "    with open(input_file, 'r', encoding='utf-8') as file:\n",
    "        text = file.read()\n",
    "        preprocessed_text = preprocess_text(text)\n",
    "    with open(output_file, 'w', encoding='utf-8') as file:\n",
    "        file.write(preprocessed_text)\n",
    "\n",
    "count = 0\n",
    "for filename in os.listdir(dataset_path):\n",
    "    if filename.endswith(\".txt\"):\n",
    "        input_file_path = os.path.join(dataset_path, filename)\n",
    "        output_file_path = os.path.join(preprocessed_path, filename)\n",
    "        preprocess_file(input_file_path, output_file_path)\n",
    "        if count < 5:\n",
    "            print(\"Processing:\", filename)\n",
    "            print(\"Contents before preprocessing:\")\n",
    "            with open(input_file_path, 'r', encoding='utf-8') as file:\n",
    "                print(file.read())\n",
    "            print(\"Contents after preprocessing:\")\n",
    "            with open(output_file_path, 'r', encoding='utf-8') as file:\n",
    "                print(file.read())\n",
    "            print(\"\\n\")\n",
    "            count += 1"
   ]
  },
  {
   "cell_type": "code",
   "execution_count": null,
   "metadata": {},
   "outputs": [],
   "source": []
  }
 ],
 "metadata": {
  "kernelspec": {
   "display_name": "Python 3",
   "language": "python",
   "name": "python3"
  },
  "language_info": {
   "codemirror_mode": {
    "name": "ipython",
    "version": 3
   },
   "file_extension": ".py",
   "mimetype": "text/x-python",
   "name": "python",
   "nbconvert_exporter": "python",
   "pygments_lexer": "ipython3",
   "version": "3.9.13"
  }
 },
 "nbformat": 4,
 "nbformat_minor": 2
}
